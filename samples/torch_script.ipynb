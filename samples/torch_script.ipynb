{
 "cells": [
  {
   "cell_type": "code",
   "execution_count": 1,
   "metadata": {},
   "outputs": [],
   "source": [
    "import torch\n",
    "import torchvision\n",
    "\n",
    "class MyScriptModule(torch.nn.Module):\n",
    "    def __init__(self):\n",
    "        super(MyScriptModule, self).__init__()\n",
    "        self.means = torch.nn.Parameter(torch.tensor([103.939, 116.779, 123.68])\n",
    "                                        .resize_(1, 3, 1, 1))\n",
    "        self.resnet = torch.jit.trace(torchvision.models.resnet18(),\n",
    "                                      torch.rand(1, 3, 224, 224))\n",
    "\n",
    "    def forward(self, input):\n",
    "        return self.resnet(input - self.means)\n",
    "\n",
    "my_script_module = torch.jit.script(MyScriptModule())"
   ]
  },
  {
   "cell_type": "code",
   "execution_count": 6,
   "metadata": {},
   "outputs": [
    {
     "name": "stdout",
     "output_type": "stream",
     "text": [
      "ScriptModule(\n",
      "  original_name=MyScriptModule\n",
      "  (resnet): TracedModule[ResNet](\n",
      "    original_name=ResNet\n",
      "    (conv1): TracedModule[Conv2d](original_name=Conv2d)\n",
      "    (bn1): TracedModule[BatchNorm2d](original_name=BatchNorm2d)\n",
      "    (relu): TracedModule[ReLU](original_name=ReLU)\n",
      "    (maxpool): TracedModule[MaxPool2d](original_name=MaxPool2d)\n",
      "    (layer1): TracedModule[Sequential](\n",
      "      original_name=Sequential\n",
      "      (0): TracedModule[BasicBlock](\n",
      "        original_name=BasicBlock\n",
      "        (conv1): TracedModule[Conv2d](original_name=Conv2d)\n",
      "        (bn1): TracedModule[BatchNorm2d](original_name=BatchNorm2d)\n",
      "        (relu): TracedModule[ReLU](original_name=ReLU)\n",
      "        (conv2): TracedModule[Conv2d](original_name=Conv2d)\n",
      "        (bn2): TracedModule[BatchNorm2d](original_name=BatchNorm2d)\n",
      "      )\n",
      "      (1): TracedModule[BasicBlock](\n",
      "        original_name=BasicBlock\n",
      "        (conv1): TracedModule[Conv2d](original_name=Conv2d)\n",
      "        (bn1): TracedModule[BatchNorm2d](original_name=BatchNorm2d)\n",
      "        (relu): TracedModule[ReLU](original_name=ReLU)\n",
      "        (conv2): TracedModule[Conv2d](original_name=Conv2d)\n",
      "        (bn2): TracedModule[BatchNorm2d](original_name=BatchNorm2d)\n",
      "      )\n",
      "    )\n",
      "    (layer2): TracedModule[Sequential](\n",
      "      original_name=Sequential\n",
      "      (0): TracedModule[BasicBlock](\n",
      "        original_name=BasicBlock\n",
      "        (conv1): TracedModule[Conv2d](original_name=Conv2d)\n",
      "        (bn1): TracedModule[BatchNorm2d](original_name=BatchNorm2d)\n",
      "        (relu): TracedModule[ReLU](original_name=ReLU)\n",
      "        (conv2): TracedModule[Conv2d](original_name=Conv2d)\n",
      "        (bn2): TracedModule[BatchNorm2d](original_name=BatchNorm2d)\n",
      "        (downsample): TracedModule[Sequential](\n",
      "          original_name=Sequential\n",
      "          (0): TracedModule[Conv2d](original_name=Conv2d)\n",
      "          (1): TracedModule[BatchNorm2d](original_name=BatchNorm2d)\n",
      "        )\n",
      "      )\n",
      "      (1): TracedModule[BasicBlock](\n",
      "        original_name=BasicBlock\n",
      "        (conv1): TracedModule[Conv2d](original_name=Conv2d)\n",
      "        (bn1): TracedModule[BatchNorm2d](original_name=BatchNorm2d)\n",
      "        (relu): TracedModule[ReLU](original_name=ReLU)\n",
      "        (conv2): TracedModule[Conv2d](original_name=Conv2d)\n",
      "        (bn2): TracedModule[BatchNorm2d](original_name=BatchNorm2d)\n",
      "      )\n",
      "    )\n",
      "    (layer3): TracedModule[Sequential](\n",
      "      original_name=Sequential\n",
      "      (0): TracedModule[BasicBlock](\n",
      "        original_name=BasicBlock\n",
      "        (conv1): TracedModule[Conv2d](original_name=Conv2d)\n",
      "        (bn1): TracedModule[BatchNorm2d](original_name=BatchNorm2d)\n",
      "        (relu): TracedModule[ReLU](original_name=ReLU)\n",
      "        (conv2): TracedModule[Conv2d](original_name=Conv2d)\n",
      "        (bn2): TracedModule[BatchNorm2d](original_name=BatchNorm2d)\n",
      "        (downsample): TracedModule[Sequential](\n",
      "          original_name=Sequential\n",
      "          (0): TracedModule[Conv2d](original_name=Conv2d)\n",
      "          (1): TracedModule[BatchNorm2d](original_name=BatchNorm2d)\n",
      "        )\n",
      "      )\n",
      "      (1): TracedModule[BasicBlock](\n",
      "        original_name=BasicBlock\n",
      "        (conv1): TracedModule[Conv2d](original_name=Conv2d)\n",
      "        (bn1): TracedModule[BatchNorm2d](original_name=BatchNorm2d)\n",
      "        (relu): TracedModule[ReLU](original_name=ReLU)\n",
      "        (conv2): TracedModule[Conv2d](original_name=Conv2d)\n",
      "        (bn2): TracedModule[BatchNorm2d](original_name=BatchNorm2d)\n",
      "      )\n",
      "    )\n",
      "    (layer4): TracedModule[Sequential](\n",
      "      original_name=Sequential\n",
      "      (0): TracedModule[BasicBlock](\n",
      "        original_name=BasicBlock\n",
      "        (conv1): TracedModule[Conv2d](original_name=Conv2d)\n",
      "        (bn1): TracedModule[BatchNorm2d](original_name=BatchNorm2d)\n",
      "        (relu): TracedModule[ReLU](original_name=ReLU)\n",
      "        (conv2): TracedModule[Conv2d](original_name=Conv2d)\n",
      "        (bn2): TracedModule[BatchNorm2d](original_name=BatchNorm2d)\n",
      "        (downsample): TracedModule[Sequential](\n",
      "          original_name=Sequential\n",
      "          (0): TracedModule[Conv2d](original_name=Conv2d)\n",
      "          (1): TracedModule[BatchNorm2d](original_name=BatchNorm2d)\n",
      "        )\n",
      "      )\n",
      "      (1): TracedModule[BasicBlock](\n",
      "        original_name=BasicBlock\n",
      "        (conv1): TracedModule[Conv2d](original_name=Conv2d)\n",
      "        (bn1): TracedModule[BatchNorm2d](original_name=BatchNorm2d)\n",
      "        (relu): TracedModule[ReLU](original_name=ReLU)\n",
      "        (conv2): TracedModule[Conv2d](original_name=Conv2d)\n",
      "        (bn2): TracedModule[BatchNorm2d](original_name=BatchNorm2d)\n",
      "      )\n",
      "    )\n",
      "    (avgpool): TracedModule[AdaptiveAvgPool2d](original_name=AdaptiveAvgPool2d)\n",
      "    (fc): TracedModule[Linear](original_name=Linear)\n",
      "  )\n",
      ")\n",
      "<class 'torch.jit.ScriptModule'>\n"
     ]
    }
   ],
   "source": [
    "print(my_script_module)\n",
    "print(type(my_script_module))\n"
   ]
  },
  {
   "cell_type": "code",
   "execution_count": 4,
   "metadata": {},
   "outputs": [
    {
     "name": "stdout",
     "output_type": "stream",
     "text": [
      "<class 'torch._C.Function'>\n",
      "def foo(len: int) -> Tensor:\n",
      "  rv = torch.zeros([3, 4], dtype=None, layout=None, device=None, pin_memory=None)\n",
      "  rv0 = rv\n",
      "  for i in range(len):\n",
      "    if torch.lt(i, 10):\n",
      "      rv1 = torch.sub(rv0, 1., 1)\n",
      "    else:\n",
      "      rv1 = torch.add(rv0, 1., 1)\n",
      "    rv0 = rv1\n",
      "  return rv0\n",
      "\n"
     ]
    }
   ],
   "source": [
    "@torch.jit.script\n",
    "def foo(len):\n",
    "    # type: (int) -> torch.Tensor\n",
    "    rv = torch.zeros(3, 4)\n",
    "    for i in range(len):\n",
    "        if i < 10:\n",
    "            rv = rv - 1.0\n",
    "        else:\n",
    "            rv = rv + 1.0\n",
    "    return rv\n",
    "\n",
    "print(type(foo))\n",
    "print(foo.code)"
   ]
  },
  {
   "cell_type": "code",
   "execution_count": 7,
   "metadata": {},
   "outputs": [
    {
     "name": "stdout",
     "output_type": "stream",
     "text": [
      "graph(%len.1 : int):\n",
      "  %20 : int = prim::Constant[value=1]()\n",
      "  %13 : bool = prim::Constant[value=1]() # <ipython-input-4-01a58e79a588>:5:4\n",
      "  %5 : None = prim::Constant()\n",
      "  %1 : int = prim::Constant[value=3]() # <ipython-input-4-01a58e79a588>:4:21\n",
      "  %2 : int = prim::Constant[value=4]() # <ipython-input-4-01a58e79a588>:4:24\n",
      "  %16 : int = prim::Constant[value=10]() # <ipython-input-4-01a58e79a588>:6:15\n",
      "  %19 : float = prim::Constant[value=1]() # <ipython-input-4-01a58e79a588>:7:22\n",
      "  %4 : int[] = prim::ListConstruct(%1, %2)\n",
      "  %rv.1 : Tensor = aten::zeros(%4, %5, %5, %5, %5) # <ipython-input-4-01a58e79a588>:4:9\n",
      "  %rv : Tensor = prim::Loop(%len.1, %13, %rv.1) # <ipython-input-4-01a58e79a588>:5:4\n",
      "    block0(%i.1 : int, %rv.14 : Tensor):\n",
      "      %17 : bool = aten::lt(%i.1, %16) # <ipython-input-4-01a58e79a588>:6:11\n",
      "      %rv.13 : Tensor = prim::If(%17) # <ipython-input-4-01a58e79a588>:6:8\n",
      "        block0():\n",
      "          %rv.3 : Tensor = aten::sub(%rv.14, %19, %20) # <ipython-input-4-01a58e79a588>:7:17\n",
      "          -> (%rv.3)\n",
      "        block1():\n",
      "          %rv.6 : Tensor = aten::add(%rv.14, %19, %20) # <ipython-input-4-01a58e79a588>:9:17\n",
      "          -> (%rv.6)\n",
      "      -> (%13, %rv.13)\n",
      "  return (%rv)\n",
      "\n"
     ]
    }
   ],
   "source": [
    "print(foo.graph)"
   ]
  },
  {
   "cell_type": "code",
   "execution_count": 8,
   "metadata": {},
   "outputs": [
    {
     "name": "stdout",
     "output_type": "stream",
     "text": [
      "graph(%x : Float(3, 4)):\n",
      "  %4 : int = prim::Constant[value=1]() # <ipython-input-8-9083ec5950df>:2:0\n",
      "  %5 : int = aten::size(%x, %4) # <ipython-input-8-9083ec5950df>:2:0\n",
      "  %6 : Long() = prim::NumToTensor(%5)\n",
      "  %7 : int = aten::Int(%6)\n",
      "  %8 : int[] = prim::ListConstruct(%7)\n",
      "  %9 : int = prim::Constant[value=6]() # <ipython-input-8-9083ec5950df>:2:0\n",
      "  %10 : int = prim::Constant[value=0]() # <ipython-input-8-9083ec5950df>:2:0\n",
      "  %11 : Device = prim::Constant[value=\"cpu\"]() # <ipython-input-8-9083ec5950df>:2:0\n",
      "  %12 : bool = prim::Constant[value=0]() # <ipython-input-8-9083ec5950df>:2:0\n",
      "  %13 : Float(4) = aten::rand(%8, %9, %10, %11, %12) # <ipython-input-8-9083ec5950df>:2:0\n",
      "  %14 : int = prim::Constant[value=0]() # <ipython-input-8-9083ec5950df>:2:0\n",
      "  %15 : int = prim::Constant[value=0]() # <ipython-input-8-9083ec5950df>:2:0\n",
      "  %16 : Float(4) = aten::select(%x, %14, %15) # <ipython-input-8-9083ec5950df>:2:0\n",
      "  %17 : int = prim::Constant[value=4]() # <ipython-input-8-9083ec5950df>:2:0\n",
      "  %18 : int[] = prim::ListConstruct(%17)\n",
      "  %19 : Float(4) = aten::view(%13, %18) # <ipython-input-8-9083ec5950df>:2:0\n",
      "  %20 : bool = prim::Constant[value=0]()\n",
      "  %21 : Float(4) = aten::copy_(%16, %19, %20)\n",
      "  return (%x)\n",
      "\n"
     ]
    },
    {
     "name": "stderr",
     "output_type": "stream",
     "text": [
      "/opt/conda/lib/python3.6/site-packages/torch/jit/__init__.py:875: TracerWarning: Trace had nondeterministic nodes. Did you forget call .eval() on your model? Nodes:\n",
      "\t%13 : Float(4) = aten::rand(%8, %9, %10, %11, %12) # <ipython-input-8-9083ec5950df>:2:0\n",
      "This may cause errors in trace checking. To disable trace checking, pass check_trace=False to torch.jit.trace()\n",
      "  _check_trace([example_inputs], func, traced, check_tolerance, _force_outplace, False, _module_class)\n",
      "/opt/conda/lib/python3.6/site-packages/torch/jit/__init__.py:875: TracerWarning: Output nr 1. of the traced function does not match the corresponding output of the Python function. Detailed error:\n",
      "Not within tolerance rtol=1e-05 atol=1e-05 at input[0, 2] (0.6968618035316467 vs. 0.20274019241333008) and 3 other locations (33.00%)\n",
      "  _check_trace([example_inputs], func, traced, check_tolerance, _force_outplace, False, _module_class)\n"
     ]
    }
   ],
   "source": [
    "def fill_row_zero(x):\n",
    "    x[0] = torch.rand(*x.shape[1:2])\n",
    "    return x\n",
    "\n",
    "traced = torch.jit.trace(fill_row_zero, (torch.rand(3, 4),))\n",
    "print(traced.graph)"
   ]
  },
  {
   "cell_type": "code",
   "execution_count": null,
   "metadata": {},
   "outputs": [],
   "source": []
  }
 ],
 "metadata": {
  "kernelspec": {
   "display_name": "Python 3",
   "language": "python",
   "name": "python3"
  },
  "language_info": {
   "codemirror_mode": {
    "name": "ipython",
    "version": 3
   },
   "file_extension": ".py",
   "mimetype": "text/x-python",
   "name": "python",
   "nbconvert_exporter": "python",
   "pygments_lexer": "ipython3",
   "version": "3.6.9"
  }
 },
 "nbformat": 4,
 "nbformat_minor": 4
}
